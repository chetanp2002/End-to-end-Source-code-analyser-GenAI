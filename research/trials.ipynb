{
 "cells": [
  {
   "cell_type": "code",
   "execution_count": 4,
   "metadata": {},
   "outputs": [],
   "source": [
    "from git import Repo\n",
    "from langchain.text_splitter import Language\n",
    "from langchain.document_loaders.generic import GenericLoader\n",
    "from langchain.document_loaders.parsers import LanguageParser\n",
    "from langchain.text_splitter import RecursiveCharacterTextSplitter\n",
    "import os\n",
    "from langchain_huggingface import HuggingFaceEmbeddings\n",
    "from langchain.vectorstores import Chroma\n",
    "from langchain_groq import ChatGroq\n",
    "from langchain.chains.conversational_retrieval.base import ConversationalRetrievalChain\n",
    "from langchain.memory import ConversationSummaryMemory"
   ]
  },
  {
   "cell_type": "code",
   "execution_count": 5,
   "metadata": {},
   "outputs": [],
   "source": [
    "!mkdir test_repo"
   ]
  },
  {
   "cell_type": "code",
   "execution_count": 6,
   "metadata": {},
   "outputs": [],
   "source": [
    "repo_path= \"test_repo/\"\n",
    "repo= Repo.clone_from(\"https://github.com/chetanp2002/Food-Delivery-Prediction\", to_path=repo_path)"
   ]
  },
  {
   "cell_type": "code",
   "execution_count": 7,
   "metadata": {},
   "outputs": [],
   "source": [
    "loader= GenericLoader.from_filesystem(repo_path,\n",
    "                                      glob=\"**/*\",\n",
    "                                      suffixes=[\".py\"],\n",
    "                                      parser=LanguageParser(language=Language.PYTHON, parser_threshold=500))"
   ]
  },
  {
   "cell_type": "code",
   "execution_count": 8,
   "metadata": {},
   "outputs": [],
   "source": [
    "documents= loader.load()"
   ]
  },
  {
   "cell_type": "code",
   "execution_count": 9,
   "metadata": {},
   "outputs": [
    {
     "data": {
      "text/plain": [
       "[Document(metadata={'source': 'test_repo\\\\app.py', 'language': <Language.PYTHON: 'python'>}, page_content='import pickle\\nimport pandas as pd\\nimport streamlit as st\\nimport numpy as np\\nfrom geopy.distance import geodesic\\nfrom sklearn.preprocessing import LabelEncoder\\nimport requests\\n\\n\\nwith open(\\'models/scaler.pkl\\', \\'rb\\') as f:\\n    scaler = pickle.load(f)\\n\\nwith open(\\'models/model.pkl\\', \\'rb\\') as f:\\n    model = pickle.load(f)\\n\\n\\n\\ndef extract_column_value(df):\\n    # #Extract time and convert to int\\n    # df[\\'Time_taken(min)\\'] = df[\\'Time_taken(min)\\'].apply(lambda x: int(x.split(\\' \\')[1].strip()))\\n    #Extract Weather conditions\\n    # df[\\'Weather_conditions\\'] = df[\\'Weather_conditions\\'].apply(lambda x: x.split(\\' \\')[1].strip())\\n    #Extract city code from Delivery person ID\\n    df[\\'City_code\\']=df[\\'Delivery_person_ID\\'].str.split(\"RES\", expand=True)[0]\\n    \\n\\n\\n\\n\\ndef extract_date_features(data):\\n    data[\"day\"] = data.Order_Date.dt.day\\n    data[\"month\"] = data.Order_Date.dt.month\\n    data[\"quarter\"] = data.Order_Date.dt.quarter\\n    data[\"year\"] = data.Order_Date.dt.year\\n    data[\\'day_of_week\\'] = data.Order_Date.dt.day_of_week.astype(int)\\n    data[\"is_month_start\"] = data.Order_Date.dt.is_month_start.astype(int)\\n    data[\"is_month_end\"] = data.Order_Date.dt.is_month_end.astype(int)\\n    data[\"is_quarter_start\"] = data.Order_Date.dt.is_quarter_start.astype(int)\\n    data[\"is_quarter_end\"] = data.Order_Date.dt.is_quarter_end.astype(int)\\n    data[\"is_year_start\"] = data.Order_Date.dt.is_year_start.astype(int)\\n    data[\"is_year_end\"] = data.Order_Date.dt.is_year_end.astype(int)\\n    data[\\'is_weekend\\'] = np.where(data[\\'day_of_week\\'].isin([5,6]),1,0)\\n\\n\\ndef calculate_time_diff(df):\\n    # Find the difference between ordered time & picked time\\n    df[\\'Time_Orderd\\'] = pd.to_timedelta(df[\\'Time_Orderd\\'])\\n    \\n    df[\\'Time_Order_picked\\'] = pd.to_timedelta(df[\\'Time_Order_picked\\'])\\n    \\n    df[\\'Time_Order_picked_formatted\\'] = df[\\'Order_Date\\'] + np.where(df[\\'Time_Order_picked\\'] < df[\\'Time_Orderd\\'], pd.DateOffset(days=1), pd.DateOffset(days=0)) +     df[\\'Time_Order_picked\\']\\n    df[\\'Time_Ordered_formatted\\'] = df[\\'Order_Date\\'] + df[\\'Time_Orderd\\']\\n\\n    df[\\'Time_Order_picked_formatted\\']=pd.to_datetime(df[\\'Time_Order_picked_formatted\\'])\\n    \\n    df[\\'order_prepare_time\\'] = (df[\\'Time_Order_picked_formatted\\'] - df[\\'Time_Ordered_formatted\\']).dt.total_seconds() / 60\\n    \\n    # Handle null values by filling with the median\\n    df[\\'order_prepare_time\\'].fillna(df[\\'order_prepare_time\\'].median())\\n    \\n    # Drop all the time & date related columns\\n    df.drop([\\'Time_Orderd\\', \\'Time_Order_picked\\', \\'Time_Ordered_formatted\\', \\'Time_Order_picked_formatted\\', \\'Order_Date\\'], axis=1, inplace=True)\\n\\n\\n\\n#Calculate distance between restaurant location & delivery location\\ndef calculate_distance(df):\\n    df[\\'distance\\']=np.zeros(len(df))\\n    restaurant_coordinates=df[[\\'Restaurant_latitude\\',\\'Restaurant_longitude\\']].to_numpy()\\n    delivery_location_coordinates=df[[\\'Delivery_location_latitude\\',\\'Delivery_location_longitude\\']].to_numpy()\\n    df[\\'distance\\'] = np.array([geodesic(restaurant, delivery) for restaurant, delivery in zip(restaurant_coordinates, delivery_location_coordinates)])\\n    df[\\'distance\\']= df[\\'distance\\'].astype(\"str\").str.extract(\\'(\\\\d+)\\').astype(\"int64\")\\n    \\ndef label_encoding(df):\\n    categorical_columns = df.select_dtypes(include=\\'object\\').columns\\n    label_encoder = LabelEncoder()\\n    df[categorical_columns] = df[categorical_columns].apply(lambda col: label_encoder.fit_transform(col))\\n\\n\\n# Define Streamlit app\\nst.title(\\'Food Delivery Time Prediction\\')\\n\\n# User input for each feature\\ndelivery_person_id = st.text_input(\\'**Delivery Person ID**\\', \\'BANGRES19DEL01\\')\\nage = st.number_input(\\'**Delivery Person Age**\\', min_value=18, max_value=65, value=30)\\nratings = st.number_input(\\'**Delivery Person Ratings**\\', min_value=1.0, max_value=5.0, value=4.5)\\norder_date = st.date_input(\\'**Order Date**\\')\\ntime_ordered = st.time_input(\\'**Time Ordered**\\')\\ntime_order_picked = st.time_input(\\'**Time Order Picked**\\')\\nweather_condidion = st.selectbox(\\'**Weather Condition**\\', [\\'Sunny\\', \\'Cloudy\\', \\'Rainy\\', \\'Foggy\\'])\\ntraffic = st.selectbox(\\'**Road Traffic Density**\\', [\\'Low\\', \\'Medium\\', \\'High\\', \\'Jam\\'])\\nvehicle_condition = st.number_input(\\'**Vehicle Condition**\\', min_value=0, max_value=10, value=7)\\norder_type = st.selectbox(\\'**Type of Order**\\', [\\'Snack\\', \\'Meal\\', \\'Drinks\\', \\'Buffet\\'])\\nvehicle_type = st.selectbox(\\'**Type of Vehicle**\\', [\\'Bike\\', \\'Scooter\\', \\'Car\\', \\'Truck\\'])\\nmultiple_deliveries = st.number_input(\\'**Multiple Deliveries**\\', min_value=0, max_value=5, value=0)\\nfestival = st.selectbox(\\'**Festival**\\', [\\'No\\', \\'Yes\\'])\\ncity = st.selectbox(\\'**City**\\', [\\'Urban\\', \\'Semi-Urban\\', \\'Metropolitan\\'])\\n\\nrestaurant_address = st.text_input(\\'**Restaurant Address**\\')\\ndelivery_address = st.text_input(\\'**Delivery Address**\\')\\n\\n\\ndef get_lat_long_opencage(address, api_key):\\n    url = f\"https://api.opencagedata.com/geocode/v1/json?q={address}&key={api_key}\"\\n    response = requests.get(url)\\n\\n    if response.status_code == 200:\\n        data = response.json()\\n        if data[\"results\"]:\\n            latitude = data[\"results\"][0][\"geometry\"][\"lat\"]\\n            longitude = data[\"results\"][0][\"geometry\"][\"lng\"]\\n            return latitude, longitude\\n        else:\\n            return None, None\\n    else:\\n        return None, None\\n\\n# Example usage\\napi_key = \"fe6efef7dd0143208de93377c73fcc54\"  \\n\\nrestaurant_lat,restaurant_long = get_lat_long_opencage(restaurant_address, api_key)\\ndelivery_lat,delivery_long = get_lat_long_opencage(delivery_address, api_key)\\n\\ndef set_background_image(image_url):\\n    st.markdown(\\n        f\"\"\"\\n        <style>\\n        .stApp {{\\n            background: url({\\'https://raw.githubusercontent.com/chetanp2002/images/main/IMG_20241121_191911.jpg\\'});\\n            background-size: cover;\\n            background-repeat: no-repeat;\\n            background-attachment: fixed;\\n        }}\\n        </style>\\n        \"\"\",\\n        unsafe_allow_html=True\\n    )\\n\\n# Call function to set the background image\\n# Replace \\'your_image_url\\' with the URL of your image or path to your local image\\nset_background_image(\\'https://raw.githubusercontent.com/chetanp2002/images/main/IMG_20241121_191911.jpg\\')\\n\\nif st.button(\"Get ETA for Delivery!\"):\\n    # Prepare input data for the model\\n    input_data = pd.DataFrame({\\n        \\'Delivery_person_ID\\': [delivery_person_id],\\n        \\'Delivery_person_Age\\': [age],\\n        \\'Delivery_person_Ratings\\': [ratings],\\n        \\'Restaurant_latitude\\': [restaurant_lat],\\n        \\'Restaurant_longitude\\': [restaurant_long],\\n        \\'Delivery_location_latitude\\': [delivery_lat],\\n        \\'Delivery_location_longitude\\': [delivery_long],\\n        \\'Order_Date\\': [order_date],\\n        \\'Time_Orderd\\': [time_ordered],\\n        \\'Time_Order_picked\\': [time_order_picked],\\n        \\'Weather_condition\\': [weather_condidion],\\n        \\'Road_traffic_density\\': [traffic],\\n        \\'Vehicle_condition\\': [vehicle_condition],\\n        \\'Type_of_order\\': [order_type],\\n        \\'Type_of_vehicle\\': [vehicle_type],\\n        \\'multiple_deliveries\\': [multiple_deliveries],\\n        \\'Festival\\': [festival],\\n        \\'City\\': [city]\\n    })\\n\\n\\n    input_data[\\'Order_Date\\'] = pd.to_datetime(input_data[\\'Order_Date\\'])\\n    input_data[\\'Order_Year\\'] = input_data[\\'Order_Date\\'].dt.year\\n    input_data[\\'Order_Month\\'] = input_data[\\'Order_Date\\'].dt.month\\n    input_data[\\'Order_Day\\'] = input_data[\\'Order_Date\\'].dt.day\\n    input_data[\\'Time_Orderd\\'] = pd.to_datetime(input_data[\\'Time_Orderd\\'], format=\\'%H:%M:%S\\').dt.hour\\n    input_data[\\'Time_Order_picked\\'] = pd.to_datetime(input_data[\\'Time_Order_picked\\'], format=\\'%H:%M:%S\\').dt.hour\\n\\n\\n\\n    extract_column_value(input_data)\\n    extract_date_features(input_data)\\n    calculate_time_diff(input_data)\\n    calculate_distance(input_data)\\n    label_encoding(input_data)\\n\\n\\n\\n\\n\\n    input_data=input_data.drop([\\'Order_Year\\', \\'Order_Month\\', \\'Order_Day\\',\\'Delivery_person_ID\\'],axis=1)\\n\\n    # Scale the input data using the loaded scaler\\n    scaled_data = scaler.transform(input_data)\\n\\n    # Make prediction using the loaded model\\n    prediction = model.predict(scaled_data)\\n\\n    # Display the prediction\\n    st.markdown(f\"\"\"\\n    <style>\\n    @keyframes glow {{\\n        0% {{ box-shadow: 0 0 10px #007BFF; }}\\n        50% {{ box-shadow: 0 0 20px #007BFF; }}\\n        100% {{ box-shadow: 0 0 10px #007BFF; }}\\n    }}\\n    .prediction-box {{\\n        background: linear-gradient(135deg, #f0f8ff, #e6e6fa);\\n        padding: 20px;\\n        border-radius: 15px;\\n        text-align: center;\\n        font-family: \\'Comic Sans MS\\', cursive, sans-serif;\\n        color: #333;\\n        animation: glow 1.5s infinite;\\n        box-shadow: 2px 4px 15px rgba(0, 123, 255, 0.5);\\n    }}\\n    .prediction-box h3 {{\\n        font-size: 24px;\\n        color: #007BFF;\\n        margin: 0;\\n    }}\\n    .prediction-box p {{\\n        font-size: 18px;\\n        margin: 0;\\n        color: #666;\\n    }}\\n    </style>\\n    <div class=\"prediction-box\">\\n        <h3>Your food will arrive in <span style=\"font-weight: bold;\">{prediction[0]} minutes</span>! </h3>\\n        <p>Enjoy your meal! 😊</p>\\n    </div>\\n\"\"\", unsafe_allow_html=True)')]"
      ]
     },
     "execution_count": 9,
     "metadata": {},
     "output_type": "execute_result"
    }
   ],
   "source": [
    "documents"
   ]
  },
  {
   "cell_type": "code",
   "execution_count": 10,
   "metadata": {},
   "outputs": [],
   "source": [
    "document_splitter= RecursiveCharacterTextSplitter.from_language(language=Language.PYTHON,\n",
    "                                                                chunk_size= 500,\n",
    "                                                                chunk_overlap= 20)"
   ]
  },
  {
   "cell_type": "code",
   "execution_count": 11,
   "metadata": {},
   "outputs": [],
   "source": [
    "texts= document_splitter.split_documents(documents)"
   ]
  },
  {
   "cell_type": "code",
   "execution_count": 12,
   "metadata": {},
   "outputs": [
    {
     "data": {
      "text/plain": [
       "[Document(metadata={'source': 'test_repo\\\\app.py', 'language': <Language.PYTHON: 'python'>}, page_content=\"import pickle\\nimport pandas as pd\\nimport streamlit as st\\nimport numpy as np\\nfrom geopy.distance import geodesic\\nfrom sklearn.preprocessing import LabelEncoder\\nimport requests\\n\\n\\nwith open('models/scaler.pkl', 'rb') as f:\\n    scaler = pickle.load(f)\\n\\nwith open('models/model.pkl', 'rb') as f:\\n    model = pickle.load(f)\"),\n",
       " Document(metadata={'source': 'test_repo\\\\app.py', 'language': <Language.PYTHON: 'python'>}, page_content='def extract_column_value(df):\\n    # #Extract time and convert to int\\n    # df[\\'Time_taken(min)\\'] = df[\\'Time_taken(min)\\'].apply(lambda x: int(x.split(\\' \\')[1].strip()))\\n    #Extract Weather conditions\\n    # df[\\'Weather_conditions\\'] = df[\\'Weather_conditions\\'].apply(lambda x: x.split(\\' \\')[1].strip())\\n    #Extract city code from Delivery person ID\\n    df[\\'City_code\\']=df[\\'Delivery_person_ID\\'].str.split(\"RES\", expand=True)[0]'),\n",
       " Document(metadata={'source': 'test_repo\\\\app.py', 'language': <Language.PYTHON: 'python'>}, page_content='def extract_date_features(data):\\n    data[\"day\"] = data.Order_Date.dt.day\\n    data[\"month\"] = data.Order_Date.dt.month\\n    data[\"quarter\"] = data.Order_Date.dt.quarter\\n    data[\"year\"] = data.Order_Date.dt.year\\n    data[\\'day_of_week\\'] = data.Order_Date.dt.day_of_week.astype(int)\\n    data[\"is_month_start\"] = data.Order_Date.dt.is_month_start.astype(int)\\n    data[\"is_month_end\"] = data.Order_Date.dt.is_month_end.astype(int)'),\n",
       " Document(metadata={'source': 'test_repo\\\\app.py', 'language': <Language.PYTHON: 'python'>}, page_content='data[\"is_quarter_start\"] = data.Order_Date.dt.is_quarter_start.astype(int)\\n    data[\"is_quarter_end\"] = data.Order_Date.dt.is_quarter_end.astype(int)\\n    data[\"is_year_start\"] = data.Order_Date.dt.is_year_start.astype(int)\\n    data[\"is_year_end\"] = data.Order_Date.dt.is_year_end.astype(int)\\n    data[\\'is_weekend\\'] = np.where(data[\\'day_of_week\\'].isin([5,6]),1,0)'),\n",
       " Document(metadata={'source': 'test_repo\\\\app.py', 'language': <Language.PYTHON: 'python'>}, page_content=\"def calculate_time_diff(df):\\n    # Find the difference between ordered time & picked time\\n    df['Time_Orderd'] = pd.to_timedelta(df['Time_Orderd'])\\n    \\n    df['Time_Order_picked'] = pd.to_timedelta(df['Time_Order_picked'])\\n    \\n    df['Time_Order_picked_formatted'] = df['Order_Date'] + np.where(df['Time_Order_picked'] < df['Time_Orderd'], pd.DateOffset(days=1), pd.DateOffset(days=0)) +     df['Time_Order_picked']\\n    df['Time_Ordered_formatted'] = df['Order_Date'] + df['Time_Orderd']\"),\n",
       " Document(metadata={'source': 'test_repo\\\\app.py', 'language': <Language.PYTHON: 'python'>}, page_content=\"df['Time_Order_picked_formatted']=pd.to_datetime(df['Time_Order_picked_formatted'])\\n    \\n    df['order_prepare_time'] = (df['Time_Order_picked_formatted'] - df['Time_Ordered_formatted']).dt.total_seconds() / 60\\n    \\n    # Handle null values by filling with the median\\n    df['order_prepare_time'].fillna(df['order_prepare_time'].median())\\n    \\n    # Drop all the time & date related columns\"),\n",
       " Document(metadata={'source': 'test_repo\\\\app.py', 'language': <Language.PYTHON: 'python'>}, page_content=\"df.drop(['Time_Orderd', 'Time_Order_picked', 'Time_Ordered_formatted', 'Time_Order_picked_formatted', 'Order_Date'], axis=1, inplace=True)\"),\n",
       " Document(metadata={'source': 'test_repo\\\\app.py', 'language': <Language.PYTHON: 'python'>}, page_content='#Calculate distance between restaurant location & delivery location'),\n",
       " Document(metadata={'source': 'test_repo\\\\app.py', 'language': <Language.PYTHON: 'python'>}, page_content=\"def calculate_distance(df):\\n    df['distance']=np.zeros(len(df))\\n    restaurant_coordinates=df[['Restaurant_latitude','Restaurant_longitude']].to_numpy()\\n    delivery_location_coordinates=df[['Delivery_location_latitude','Delivery_location_longitude']].to_numpy()\\n    df['distance'] = np.array([geodesic(restaurant, delivery) for restaurant, delivery in zip(restaurant_coordinates, delivery_location_coordinates)])\"),\n",
       " Document(metadata={'source': 'test_repo\\\\app.py', 'language': <Language.PYTHON: 'python'>}, page_content='df[\\'distance\\']= df[\\'distance\\'].astype(\"str\").str.extract(\\'(\\\\d+)\\').astype(\"int64\")'),\n",
       " Document(metadata={'source': 'test_repo\\\\app.py', 'language': <Language.PYTHON: 'python'>}, page_content=\"def label_encoding(df):\\n    categorical_columns = df.select_dtypes(include='object').columns\\n    label_encoder = LabelEncoder()\\n    df[categorical_columns] = df[categorical_columns].apply(lambda col: label_encoder.fit_transform(col))\\n\\n\\n# Define Streamlit app\\nst.title('Food Delivery Time Prediction')\"),\n",
       " Document(metadata={'source': 'test_repo\\\\app.py', 'language': <Language.PYTHON: 'python'>}, page_content=\"# User input for each feature\\ndelivery_person_id = st.text_input('**Delivery Person ID**', 'BANGRES19DEL01')\\nage = st.number_input('**Delivery Person Age**', min_value=18, max_value=65, value=30)\\nratings = st.number_input('**Delivery Person Ratings**', min_value=1.0, max_value=5.0, value=4.5)\\norder_date = st.date_input('**Order Date**')\\ntime_ordered = st.time_input('**Time Ordered**')\\ntime_order_picked = st.time_input('**Time Order Picked**')\"),\n",
       " Document(metadata={'source': 'test_repo\\\\app.py', 'language': <Language.PYTHON: 'python'>}, page_content=\"weather_condidion = st.selectbox('**Weather Condition**', ['Sunny', 'Cloudy', 'Rainy', 'Foggy'])\\ntraffic = st.selectbox('**Road Traffic Density**', ['Low', 'Medium', 'High', 'Jam'])\\nvehicle_condition = st.number_input('**Vehicle Condition**', min_value=0, max_value=10, value=7)\\norder_type = st.selectbox('**Type of Order**', ['Snack', 'Meal', 'Drinks', 'Buffet'])\\nvehicle_type = st.selectbox('**Type of Vehicle**', ['Bike', 'Scooter', 'Car', 'Truck'])\"),\n",
       " Document(metadata={'source': 'test_repo\\\\app.py', 'language': <Language.PYTHON: 'python'>}, page_content=\"multiple_deliveries = st.number_input('**Multiple Deliveries**', min_value=0, max_value=5, value=0)\\nfestival = st.selectbox('**Festival**', ['No', 'Yes'])\\ncity = st.selectbox('**City**', ['Urban', 'Semi-Urban', 'Metropolitan'])\"),\n",
       " Document(metadata={'source': 'test_repo\\\\app.py', 'language': <Language.PYTHON: 'python'>}, page_content=\"restaurant_address = st.text_input('**Restaurant Address**')\\ndelivery_address = st.text_input('**Delivery Address**')\"),\n",
       " Document(metadata={'source': 'test_repo\\\\app.py', 'language': <Language.PYTHON: 'python'>}, page_content='def get_lat_long_opencage(address, api_key):\\n    url = f\"https://api.opencagedata.com/geocode/v1/json?q={address}&key={api_key}\"\\n    response = requests.get(url)\\n\\n    if response.status_code == 200:\\n        data = response.json()\\n        if data[\"results\"]:\\n            latitude = data[\"results\"][0][\"geometry\"][\"lat\"]\\n            longitude = data[\"results\"][0][\"geometry\"][\"lng\"]\\n            return latitude, longitude\\n        else:\\n            return None, None\\n    else:\\n        return None, None'),\n",
       " Document(metadata={'source': 'test_repo\\\\app.py', 'language': <Language.PYTHON: 'python'>}, page_content='# Example usage\\napi_key = \"fe6efef7dd0143208de93377c73fcc54\"  \\n\\nrestaurant_lat,restaurant_long = get_lat_long_opencage(restaurant_address, api_key)\\ndelivery_lat,delivery_long = get_lat_long_opencage(delivery_address, api_key)'),\n",
       " Document(metadata={'source': 'test_repo\\\\app.py', 'language': <Language.PYTHON: 'python'>}, page_content='def set_background_image(image_url):\\n    st.markdown(\\n        f\"\"\"\\n        <style>\\n        .stApp {{\\n            background: url({\\'https://raw.githubusercontent.com/chetanp2002/images/main/IMG_20241121_191911.jpg\\'});\\n            background-size: cover;\\n            background-repeat: no-repeat;\\n            background-attachment: fixed;\\n        }}\\n        </style>\\n        \"\"\",\\n        unsafe_allow_html=True\\n    )'),\n",
       " Document(metadata={'source': 'test_repo\\\\app.py', 'language': <Language.PYTHON: 'python'>}, page_content=\"# Call function to set the background image\\n# Replace 'your_image_url' with the URL of your image or path to your local image\\nset_background_image('https://raw.githubusercontent.com/chetanp2002/images/main/IMG_20241121_191911.jpg')\"),\n",
       " Document(metadata={'source': 'test_repo\\\\app.py', 'language': <Language.PYTHON: 'python'>}, page_content='if st.button(\"Get ETA for Delivery!\"):\\n    # Prepare input data for the model\\n    input_data = pd.DataFrame({\\n        \\'Delivery_person_ID\\': [delivery_person_id],\\n        \\'Delivery_person_Age\\': [age],\\n        \\'Delivery_person_Ratings\\': [ratings],\\n        \\'Restaurant_latitude\\': [restaurant_lat],\\n        \\'Restaurant_longitude\\': [restaurant_long],\\n        \\'Delivery_location_latitude\\': [delivery_lat],\\n        \\'Delivery_location_longitude\\': [delivery_long],\\n        \\'Order_Date\\': [order_date],'),\n",
       " Document(metadata={'source': 'test_repo\\\\app.py', 'language': <Language.PYTHON: 'python'>}, page_content=\"'Time_Orderd': [time_ordered],\\n        'Time_Order_picked': [time_order_picked],\\n        'Weather_condition': [weather_condidion],\\n        'Road_traffic_density': [traffic],\\n        'Vehicle_condition': [vehicle_condition],\\n        'Type_of_order': [order_type],\\n        'Type_of_vehicle': [vehicle_type],\\n        'multiple_deliveries': [multiple_deliveries],\\n        'Festival': [festival],\\n        'City': [city]\\n    })\"),\n",
       " Document(metadata={'source': 'test_repo\\\\app.py', 'language': <Language.PYTHON: 'python'>}, page_content=\"input_data['Order_Date'] = pd.to_datetime(input_data['Order_Date'])\\n    input_data['Order_Year'] = input_data['Order_Date'].dt.year\\n    input_data['Order_Month'] = input_data['Order_Date'].dt.month\\n    input_data['Order_Day'] = input_data['Order_Date'].dt.day\\n    input_data['Time_Orderd'] = pd.to_datetime(input_data['Time_Orderd'], format='%H:%M:%S').dt.hour\\n    input_data['Time_Order_picked'] = pd.to_datetime(input_data['Time_Order_picked'], format='%H:%M:%S').dt.hour\"),\n",
       " Document(metadata={'source': 'test_repo\\\\app.py', 'language': <Language.PYTHON: 'python'>}, page_content=\"extract_column_value(input_data)\\n    extract_date_features(input_data)\\n    calculate_time_diff(input_data)\\n    calculate_distance(input_data)\\n    label_encoding(input_data)\\n\\n\\n\\n\\n\\n    input_data=input_data.drop(['Order_Year', 'Order_Month', 'Order_Day','Delivery_person_ID'],axis=1)\\n\\n    # Scale the input data using the loaded scaler\\n    scaled_data = scaler.transform(input_data)\\n\\n    # Make prediction using the loaded model\\n    prediction = model.predict(scaled_data)\"),\n",
       " Document(metadata={'source': 'test_repo\\\\app.py', 'language': <Language.PYTHON: 'python'>}, page_content='# Display the prediction\\n    st.markdown(f\"\"\"\\n    <style>\\n    @keyframes glow {{\\n        0% {{ box-shadow: 0 0 10px #007BFF; }}\\n        50% {{ box-shadow: 0 0 20px #007BFF; }}\\n        100% {{ box-shadow: 0 0 10px #007BFF; }}\\n    }}\\n    .prediction-box {{\\n        background: linear-gradient(135deg, #f0f8ff, #e6e6fa);\\n        padding: 20px;\\n        border-radius: 15px;\\n        text-align: center;\\n        font-family: \\'Comic Sans MS\\', cursive, sans-serif;\\n        color: #333;'),\n",
       " Document(metadata={'source': 'test_repo\\\\app.py', 'language': <Language.PYTHON: 'python'>}, page_content='animation: glow 1.5s infinite;\\n        box-shadow: 2px 4px 15px rgba(0, 123, 255, 0.5);\\n    }}\\n    .prediction-box h3 {{\\n        font-size: 24px;\\n        color: #007BFF;\\n        margin: 0;\\n    }}\\n    .prediction-box p {{\\n        font-size: 18px;\\n        margin: 0;\\n        color: #666;\\n    }}\\n    </style>\\n    <div class=\"prediction-box\">\\n        <h3>Your food will arrive in <span style=\"font-weight: bold;\">{prediction[0]} minutes</span>! </h3>\\n        <p>Enjoy your meal! 😊</p>\\n    </div>'),\n",
       " Document(metadata={'source': 'test_repo\\\\app.py', 'language': <Language.PYTHON: 'python'>}, page_content='</div>\\n\"\"\", unsafe_allow_html=True)')]"
      ]
     },
     "execution_count": 12,
     "metadata": {},
     "output_type": "execute_result"
    }
   ],
   "source": [
    "texts"
   ]
  },
  {
   "cell_type": "code",
   "execution_count": 13,
   "metadata": {},
   "outputs": [
    {
     "data": {
      "text/plain": [
       "26"
      ]
     },
     "execution_count": 13,
     "metadata": {},
     "output_type": "execute_result"
    }
   ],
   "source": [
    "len(texts)"
   ]
  },
  {
   "cell_type": "code",
   "execution_count": 14,
   "metadata": {},
   "outputs": [],
   "source": [
    "from dotenv import load_dotenv\n",
    "load_dotenv()\n",
    "\n",
    "HF_TOKEN= os.getenv('HF_TOKEN')"
   ]
  },
  {
   "cell_type": "code",
   "execution_count": 15,
   "metadata": {},
   "outputs": [],
   "source": [
    "os.environ['HF_TOKEN']= HF_TOKEN"
   ]
  },
  {
   "cell_type": "code",
   "execution_count": 16,
   "metadata": {},
   "outputs": [],
   "source": [
    "groq_api_key= os.getenv('GROQ_API_KEY')"
   ]
  },
  {
   "cell_type": "code",
   "execution_count": 17,
   "metadata": {},
   "outputs": [
    {
     "name": "stderr",
     "output_type": "stream",
     "text": [
      "d:\\Data Science\\GenAI Projects\\github-Source-code-analyser-GenAI\\venv\\Lib\\site-packages\\tqdm\\auto.py:21: TqdmWarning: IProgress not found. Please update jupyter and ipywidgets. See https://ipywidgets.readthedocs.io/en/stable/user_install.html\n",
      "  from .autonotebook import tqdm as notebook_tqdm\n"
     ]
    }
   ],
   "source": [
    "embeddings=HuggingFaceEmbeddings(model_name=\"all-MiniLM-L6-v2\")"
   ]
  },
  {
   "cell_type": "code",
   "execution_count": 18,
   "metadata": {},
   "outputs": [],
   "source": [
    "vectordb = Chroma.from_documents(texts, embedding=embeddings, persist_directory='./db')"
   ]
  },
  {
   "cell_type": "code",
   "execution_count": 19,
   "metadata": {},
   "outputs": [
    {
     "name": "stderr",
     "output_type": "stream",
     "text": [
      "C:\\Users\\Rahul\\AppData\\Local\\Temp\\ipykernel_1084\\3711397106.py:1: LangChainDeprecationWarning: Since Chroma 0.4.x the manual persistence method is no longer supported as docs are automatically persisted.\n",
      "  vectordb.persist()\n"
     ]
    }
   ],
   "source": [
    "vectordb.persist()"
   ]
  },
  {
   "cell_type": "code",
   "execution_count": 20,
   "metadata": {},
   "outputs": [],
   "source": [
    "llm = ChatGroq(model='gemma2-9b-it', groq_api_key=groq_api_key)"
   ]
  },
  {
   "cell_type": "code",
   "execution_count": 21,
   "metadata": {},
   "outputs": [
    {
     "name": "stderr",
     "output_type": "stream",
     "text": [
      "C:\\Users\\Rahul\\AppData\\Local\\Temp\\ipykernel_1084\\2101274949.py:1: LangChainDeprecationWarning: Please see the migration guide at: https://python.langchain.com/docs/versions/migrating_memory/\n",
      "  memory = ConversationSummaryMemory(llm=llm, memory_key = \"chat_history\", return_messages=True)\n"
     ]
    }
   ],
   "source": [
    "memory = ConversationSummaryMemory(llm=llm, memory_key = \"chat_history\", return_messages=True)"
   ]
  },
  {
   "cell_type": "code",
   "execution_count": 22,
   "metadata": {},
   "outputs": [],
   "source": [
    "qa = ConversationalRetrievalChain.from_llm(llm, retriever=vectordb.as_retriever(search_type=\"mmr\", search_kwargs={\"k\":8}), memory=memory)"
   ]
  },
  {
   "cell_type": "code",
   "execution_count": 23,
   "metadata": {},
   "outputs": [],
   "source": [
    "question = \"what is extract_column_value funtion?\""
   ]
  },
  {
   "cell_type": "code",
   "execution_count": 24,
   "metadata": {},
   "outputs": [
    {
     "name": "stderr",
     "output_type": "stream",
     "text": [
      "C:\\Users\\Rahul\\AppData\\Local\\Temp\\ipykernel_1084\\498082154.py:1: LangChainDeprecationWarning: The method `Chain.__call__` was deprecated in langchain 0.1.0 and will be removed in 1.0. Use :meth:`~invoke` instead.\n",
      "  result= qa(question)\n"
     ]
    },
    {
     "name": "stdout",
     "output_type": "stream",
     "text": [
      "The `extract_column_value` function is designed to extract specific pieces of information from columns in a Pandas DataFrame. \n",
      "\n",
      "Here's a breakdown based on the provided code:\n",
      "\n",
      "1. **Purpose:**  The function's primary goal is to manipulate data within columns of a DataFrame to make it more suitable for analysis or modeling.\n",
      "\n",
      "2. **Functionality:**\n",
      "\n",
      "   - **Time Extraction:**  It attempts to extract time information from a column likely named 'Time_taken(min)' by:\n",
      "     - Splitting the string at the space character (' ').\n",
      "     - Taking the second part of the split (index 1), removing any leading/trailing whitespace, and converting it to an integer.\n",
      "\n",
      "   - **Weather Condition Extraction:** It aims to extract weather conditions from a column named 'Weather_conditions' by:\n",
      "     - Splitting the string at the space character.\n",
      "     - Taking the second part of the split, removing leading/trailing whitespace.\n",
      "\n",
      "   - **City Code Extraction:** It extracts a city code from a column called 'Delivery_person_ID' by:\n",
      "     - Splitting the string at \"RES\".\n",
      "     - Taking the first part of the split (index 0) which likely contains the city code.\n",
      "\n",
      "3. **Example Usage:**\n",
      "   - The code snippet `extract_column_value(input_data)` calls this function on a DataFrame named `input_data`.\n",
      "\n",
      "**Key Points:**\n",
      "\n",
      "- The comments within the function indicate that these operations are intended to prepare data for further processing.\n",
      "- The code assumes specific formats for the data within the columns. If the data format changes, the function might need adjustments.\n",
      "\n",
      "\n",
      "\n",
      "Let me know if you have any other questions.\n",
      "\n"
     ]
    }
   ],
   "source": [
    "result= qa(question)\n",
    "print(result['answer'])"
   ]
  },
  {
   "cell_type": "code",
   "execution_count": null,
   "metadata": {},
   "outputs": [],
   "source": []
  }
 ],
 "metadata": {
  "kernelspec": {
   "display_name": "venv",
   "language": "python",
   "name": "python3"
  },
  "language_info": {
   "codemirror_mode": {
    "name": "ipython",
    "version": 3
   },
   "file_extension": ".py",
   "mimetype": "text/x-python",
   "name": "python",
   "nbconvert_exporter": "python",
   "pygments_lexer": "ipython3",
   "version": "3.12.8"
  }
 },
 "nbformat": 4,
 "nbformat_minor": 2
}
